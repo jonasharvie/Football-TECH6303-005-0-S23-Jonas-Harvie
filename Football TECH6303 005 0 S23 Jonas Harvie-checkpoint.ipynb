{
 "cells": [
  {
   "cell_type": "code",
   "execution_count": null,
   "id": "a2c0abb5",
   "metadata": {},
   "outputs": [],
   "source": [
    "\"\"\"\n",
    "    The count of the tuples in the given dataset.\n",
    "    The count of the names of unique tournament names from the attributes.\n",
    "    The count of matches in 2018 from the attributes.\n",
    "    The count of wins, losses, or draws given in the data columns.\n",
    "    An output plot of the pie chart of the wins, losses, or draws.\n",
    "    An output plot of the pie chart of the neutral column in the input dataset.\n",
    "    The count of the names of unique team names from the attributes.\n",
    "\"\"\""
   ]
  },
  {
   "cell_type": "code",
   "execution_count": 27,
   "id": "6044eb81",
   "metadata": {},
   "outputs": [
    {
     "data": {
      "text/html": [
       "<div>\n",
       "<style scoped>\n",
       "    .dataframe tbody tr th:only-of-type {\n",
       "        vertical-align: middle;\n",
       "    }\n",
       "\n",
       "    .dataframe tbody tr th {\n",
       "        vertical-align: top;\n",
       "    }\n",
       "\n",
       "    .dataframe thead th {\n",
       "        text-align: right;\n",
       "    }\n",
       "</style>\n",
       "<table border=\"1\" class=\"dataframe\">\n",
       "  <thead>\n",
       "    <tr style=\"text-align: right;\">\n",
       "      <th></th>\n",
       "      <th>date</th>\n",
       "      <th>home_team</th>\n",
       "      <th>away_team</th>\n",
       "      <th>home_score</th>\n",
       "      <th>away_score</th>\n",
       "      <th>tournament</th>\n",
       "      <th>city</th>\n",
       "      <th>country</th>\n",
       "      <th>neutral</th>\n",
       "    </tr>\n",
       "  </thead>\n",
       "  <tbody>\n",
       "    <tr>\n",
       "      <th>0</th>\n",
       "      <td>1872-11-30</td>\n",
       "      <td>Scotland</td>\n",
       "      <td>England</td>\n",
       "      <td>0</td>\n",
       "      <td>0</td>\n",
       "      <td>Friendly</td>\n",
       "      <td>Glasgow</td>\n",
       "      <td>Scotland</td>\n",
       "      <td>False</td>\n",
       "    </tr>\n",
       "    <tr>\n",
       "      <th>1</th>\n",
       "      <td>1873-03-08</td>\n",
       "      <td>England</td>\n",
       "      <td>Scotland</td>\n",
       "      <td>4</td>\n",
       "      <td>2</td>\n",
       "      <td>Friendly</td>\n",
       "      <td>London</td>\n",
       "      <td>England</td>\n",
       "      <td>False</td>\n",
       "    </tr>\n",
       "    <tr>\n",
       "      <th>2</th>\n",
       "      <td>1874-03-07</td>\n",
       "      <td>Scotland</td>\n",
       "      <td>England</td>\n",
       "      <td>2</td>\n",
       "      <td>1</td>\n",
       "      <td>Friendly</td>\n",
       "      <td>Glasgow</td>\n",
       "      <td>Scotland</td>\n",
       "      <td>False</td>\n",
       "    </tr>\n",
       "    <tr>\n",
       "      <th>3</th>\n",
       "      <td>1875-03-06</td>\n",
       "      <td>England</td>\n",
       "      <td>Scotland</td>\n",
       "      <td>2</td>\n",
       "      <td>2</td>\n",
       "      <td>Friendly</td>\n",
       "      <td>London</td>\n",
       "      <td>England</td>\n",
       "      <td>False</td>\n",
       "    </tr>\n",
       "    <tr>\n",
       "      <th>4</th>\n",
       "      <td>1876-03-04</td>\n",
       "      <td>Scotland</td>\n",
       "      <td>England</td>\n",
       "      <td>3</td>\n",
       "      <td>0</td>\n",
       "      <td>Friendly</td>\n",
       "      <td>Glasgow</td>\n",
       "      <td>Scotland</td>\n",
       "      <td>False</td>\n",
       "    </tr>\n",
       "  </tbody>\n",
       "</table>\n",
       "</div>"
      ],
      "text/plain": [
       "         date home_team away_team  home_score  away_score tournament     city  \\\n",
       "0  1872-11-30  Scotland   England           0           0   Friendly  Glasgow   \n",
       "1  1873-03-08   England  Scotland           4           2   Friendly   London   \n",
       "2  1874-03-07  Scotland   England           2           1   Friendly  Glasgow   \n",
       "3  1875-03-06   England  Scotland           2           2   Friendly   London   \n",
       "4  1876-03-04  Scotland   England           3           0   Friendly  Glasgow   \n",
       "\n",
       "    country  neutral  \n",
       "0  Scotland    False  \n",
       "1   England    False  \n",
       "2  Scotland    False  \n",
       "3   England    False  \n",
       "4  Scotland    False  "
      ]
     },
     "execution_count": 27,
     "metadata": {},
     "output_type": "execute_result"
    }
   ],
   "source": [
    "import pandas as pd\n",
    "df = pd.read_csv(\"results.csv\")\n",
    "df.head()"
   ]
  },
  {
   "cell_type": "code",
   "execution_count": null,
   "id": "2127fe3b",
   "metadata": {},
   "outputs": [],
   "source": [
    "# Does the dataset include any missing values? If so, delete the missing values’ entries! "
   ]
  },
  {
   "cell_type": "code",
   "execution_count": 43,
   "id": "82f39505",
   "metadata": {},
   "outputs": [
    {
     "data": {
      "text/plain": [
       "42650"
      ]
     },
     "execution_count": 43,
     "metadata": {},
     "output_type": "execute_result"
    }
   ],
   "source": [
    "# The count of the tuples in the given dataset\n",
    "len(df)\n",
    "len(df.dropna())"
   ]
  },
  {
   "cell_type": "code",
   "execution_count": 52,
   "id": "1ba7f9f2",
   "metadata": {},
   "outputs": [
    {
     "data": {
      "text/plain": [
       "array([False,  True])"
      ]
     },
     "execution_count": 52,
     "metadata": {},
     "output_type": "execute_result"
    }
   ],
   "source": [
    "df['neutral'].unique()"
   ]
  },
  {
   "cell_type": "code",
   "execution_count": 4,
   "id": "bd059d4f",
   "metadata": {},
   "outputs": [
    {
     "data": {
      "text/plain": [
       "120"
      ]
     },
     "execution_count": 4,
     "metadata": {},
     "output_type": "execute_result"
    }
   ],
   "source": [
    "# The count of the names of unique tournament names from the attributes.\n",
    "len(df['tournament'].unique())"
   ]
  },
  {
   "cell_type": "code",
   "execution_count": 34,
   "id": "28bb2526",
   "metadata": {},
   "outputs": [
    {
     "data": {
      "text/plain": [
       "908"
      ]
     },
     "execution_count": 34,
     "metadata": {},
     "output_type": "execute_result"
    }
   ],
   "source": [
    "# Convert the column date to timestamps! \n",
    "df['year'] = pd.DatetimeIndex(df['date']).year\n",
    "# Find out how many matches in the dataset were played in 2018. \n",
    "len(df[df.year == 2018])\n"
   ]
  },
  {
   "cell_type": "code",
   "execution_count": 37,
   "id": "d7a4a85f",
   "metadata": {},
   "outputs": [
    {
     "name": "stdout",
     "output_type": "stream",
     "text": [
      "times home team won  20739\n",
      "times home team lost  12074\n",
      "times home team draw  9837\n"
     ]
    }
   ],
   "source": [
    "# Calculate how many times the home team won, lost, or had a draw\n",
    "print(\"times home team won \",len(df[df.home_score > df.away_score]))\n",
    "print(\"times home team lost \",len(df[df.home_score < df.away_score]))\n",
    "print(\"times home team draw \",len(df[df.home_score == df.away_score]))"
   ]
  },
  {
   "cell_type": "code",
   "execution_count": 47,
   "id": "2f7de282",
   "metadata": {},
   "outputs": [
    {
     "data": {
      "image/png": "[encoded data removed]",
      "text/plain": [
       "<Figure size 500x500 with 1 Axes>"
      ]
     },
     "metadata": {},
     "output_type": "display_data"
    }
   ],
   "source": [
    "#Plot the numbers extracted from Step 5 in a pie chart. \n",
    "dfpie = pd.DataFrame({'HomeTeamResult': [len(df[df.home_score > df.away_score]), len(df[df.home_score < df.away_score]) , len(df[df.home_score == df.away_score])]},\n",
    "\n",
    "                  index=['won', 'lost', 'draw'])\n",
    "\n",
    "plot = dfpie.plot.pie(y='HomeTeamResult', figsize=(5, 5))\n",
    "\n"
   ]
  },
  {
   "cell_type": "code",
   "execution_count": 66,
   "id": "df7a73e1",
   "metadata": {},
   "outputs": [
    {
     "name": "stdout",
     "output_type": "stream",
     "text": [
      "False    32076\n",
      "True     10574\n",
      "Name: neutral, dtype: int64\n"
     ]
    },
    {
     "data": {
      "image/png": "[encoded data removed]",
      "text/plain": [
       "<Figure size 500x500 with 1 Axes>"
      ]
     },
     "metadata": {},
     "output_type": "display_data"
    }
   ],
   "source": [
    "# Plot the neutral column as a pie chart. \n",
    "\n",
    "print(df[\"neutral\"].value_counts())\n",
    "plot = df[\"neutral\"].value_counts().plot.pie(y='neutral', figsize=(5, 5))"
   ]
  },
  {
   "cell_type": "code",
   "execution_count": 75,
   "id": "0767f300",
   "metadata": {},
   "outputs": [
    {
     "data": {
      "text/plain": [
       "313"
      ]
     },
     "execution_count": 75,
     "metadata": {},
     "output_type": "execute_result"
    }
   ],
   "source": [
    "# How many unique teams are there in the dataset? Find out! \n",
    "len(pd.unique(df[['home_team', 'away_team']].values.ravel()))"
   ]
  },
  {
   "cell_type": "code",
   "execution_count": 78,
   "id": "dbcd22a3",
   "metadata": {},
   "outputs": [
    {
     "data": {
      "text/plain": [
       "2051"
      ]
     },
     "execution_count": 78,
     "metadata": {},
     "output_type": "execute_result"
    }
   ],
   "source": [
    "# How many unique cities are there in the dataset? Find out!\n",
    "len(pd.unique(df[['city']].values.ravel()))"
   ]
  },
  {
   "cell_type": "code",
   "execution_count": 79,
   "id": "03738060",
   "metadata": {},
   "outputs": [
    {
     "data": {
      "text/plain": [
       "120"
      ]
     },
     "execution_count": 79,
     "metadata": {},
     "output_type": "execute_result"
    }
   ],
   "source": [
    "# How many unique tournament are there in the dataset? Find out!\n",
    "len(pd.unique(df[['tournament']].values.ravel()))"
   ]
  },
  {
   "cell_type": "code",
   "execution_count": 80,
   "id": "767d7afd",
   "metadata": {},
   "outputs": [
    {
     "data": {
      "text/plain": [
       "'1872-11-30'"
      ]
     },
     "execution_count": 80,
     "metadata": {},
     "output_type": "execute_result"
    }
   ],
   "source": [
    "df['date'].min()"
   ]
  },
  {
   "cell_type": "code",
   "execution_count": null,
   "id": "b70f7bdc",
   "metadata": {},
   "outputs": [],
   "source": []
  }
 ],
 "metadata": {
  "kernelspec": {
   "display_name": "Python 3 (ipykernel)",
   "language": "python",
   "name": "python3"
  },
  "language_info": {
   "codemirror_mode": {
    "name": "ipython",
    "version": 3
   },
   "file_extension": ".py",
   "mimetype": "text/x-python",
   "name": "python",
   "nbconvert_exporter": "python",
   "pygments_lexer": "ipython3",
   "version": "3.10.9"
  }
 },
 "nbformat": 4,
 "nbformat_minor": 5
}
